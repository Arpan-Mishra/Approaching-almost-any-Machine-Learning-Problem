{
 "cells": [
  {
   "cell_type": "code",
   "execution_count": 29,
   "metadata": {},
   "outputs": [],
   "source": [
    "import pandas as pd\n",
    "import os"
   ]
  },
  {
   "cell_type": "code",
   "execution_count": 11,
   "metadata": {},
   "outputs": [],
   "source": [
    "train = pd.read_csv('Data/stage_2_train.csv', index_col = 0)"
   ]
  },
  {
   "cell_type": "code",
   "execution_count": 12,
   "metadata": {},
   "outputs": [
    {
     "data": {
      "text/html": [
       "<div>\n",
       "<style scoped>\n",
       "    .dataframe tbody tr th:only-of-type {\n",
       "        vertical-align: middle;\n",
       "    }\n",
       "\n",
       "    .dataframe tbody tr th {\n",
       "        vertical-align: top;\n",
       "    }\n",
       "\n",
       "    .dataframe thead th {\n",
       "        text-align: right;\n",
       "    }\n",
       "</style>\n",
       "<table border=\"1\" class=\"dataframe\">\n",
       "  <thead>\n",
       "    <tr style=\"text-align: right;\">\n",
       "      <th></th>\n",
       "      <th>ImageId</th>\n",
       "      <th>EncodedPixels</th>\n",
       "    </tr>\n",
       "  </thead>\n",
       "  <tbody>\n",
       "    <tr>\n",
       "      <th>420</th>\n",
       "      <td>1.2.276.0.7230010.3.1.4.8323329.3678.151787517...</td>\n",
       "      <td>194329 37 960 69 919 111 913 117 910 116 912 5...</td>\n",
       "    </tr>\n",
       "    <tr>\n",
       "      <th>9772</th>\n",
       "      <td>1.2.276.0.7230010.3.1.4.8323329.4200.151787518...</td>\n",
       "      <td>-1</td>\n",
       "    </tr>\n",
       "    <tr>\n",
       "      <th>1542</th>\n",
       "      <td>1.2.276.0.7230010.3.1.4.8323329.4862.151787518...</td>\n",
       "      <td>344265 2 1020 7 1015 9 1012 12 1010 14 1008 15...</td>\n",
       "    </tr>\n",
       "    <tr>\n",
       "      <th>7532</th>\n",
       "      <td>1.2.276.0.7230010.3.1.4.8323329.12313.15178752...</td>\n",
       "      <td>-1</td>\n",
       "    </tr>\n",
       "    <tr>\n",
       "      <th>5542</th>\n",
       "      <td>1.2.276.0.7230010.3.1.4.8323329.14214.15178752...</td>\n",
       "      <td>-1</td>\n",
       "    </tr>\n",
       "  </tbody>\n",
       "</table>\n",
       "</div>"
      ],
      "text/plain": [
       "                                                ImageId  \\\n",
       "420   1.2.276.0.7230010.3.1.4.8323329.3678.151787517...   \n",
       "9772  1.2.276.0.7230010.3.1.4.8323329.4200.151787518...   \n",
       "1542  1.2.276.0.7230010.3.1.4.8323329.4862.151787518...   \n",
       "7532  1.2.276.0.7230010.3.1.4.8323329.12313.15178752...   \n",
       "5542  1.2.276.0.7230010.3.1.4.8323329.14214.15178752...   \n",
       "\n",
       "                                          EncodedPixels  \n",
       "420   194329 37 960 69 919 111 913 117 910 116 912 5...  \n",
       "9772                                                 -1  \n",
       "1542  344265 2 1020 7 1015 9 1012 12 1010 14 1008 15...  \n",
       "7532                                                 -1  \n",
       "5542                                                 -1  "
      ]
     },
     "execution_count": 12,
     "metadata": {},
     "output_type": "execute_result"
    }
   ],
   "source": [
    "train.head()"
   ]
  },
  {
   "cell_type": "code",
   "execution_count": 17,
   "metadata": {},
   "outputs": [
    {
     "data": {
      "text/plain": [
       "(12954, 2)"
      ]
     },
     "execution_count": 17,
     "metadata": {},
     "output_type": "execute_result"
    }
   ],
   "source": [
    "train.shape"
   ]
  },
  {
   "cell_type": "code",
   "execution_count": 70,
   "metadata": {},
   "outputs": [],
   "source": [
    "# converting to binary classification problem\n",
    "train_bn = train.copy()\n",
    "train_bn['target'] = train_bn['EncodedPixels'].apply(lambda x: 0 if x== '-1' else 1)"
   ]
  },
  {
   "cell_type": "code",
   "execution_count": 71,
   "metadata": {},
   "outputs": [],
   "source": [
    "train_bn.drop('EncodedPixels', axis = 1, inplace=True)"
   ]
  },
  {
   "cell_type": "code",
   "execution_count": 58,
   "metadata": {},
   "outputs": [],
   "source": [
    "train_ids = os.listdir('Data/train_png')"
   ]
  },
  {
   "cell_type": "code",
   "execution_count": 59,
   "metadata": {},
   "outputs": [],
   "source": [
    "train_ids = [x.replace('.png','') for x in train_ids]"
   ]
  },
  {
   "cell_type": "code",
   "execution_count": 75,
   "metadata": {},
   "outputs": [],
   "source": [
    "train_bn.drop_duplicates(inplace=True, keep='first', subset = ['ImageId'])"
   ]
  },
  {
   "cell_type": "code",
   "execution_count": 76,
   "metadata": {},
   "outputs": [],
   "source": [
    "test_ids = os.listdir('Data/test_png')\n",
    "test_ids = [x.replace('.png','') for x in test_ids]"
   ]
  },
  {
   "cell_type": "code",
   "execution_count": 77,
   "metadata": {},
   "outputs": [],
   "source": [
    "training = train_bn[train_bn['ImageId'].isin(train_ids)]\n",
    "testing = train_bn[train_bn['ImageId'].isin(test_ids)]"
   ]
  },
  {
   "cell_type": "code",
   "execution_count": 78,
   "metadata": {},
   "outputs": [
    {
     "name": "stdout",
     "output_type": "stream",
     "text": [
      "(10675, 2) (1372, 2)\n"
     ]
    }
   ],
   "source": [
    "print(training.shape, testing.shape)"
   ]
  },
  {
   "cell_type": "code",
   "execution_count": 79,
   "metadata": {},
   "outputs": [],
   "source": [
    "training.to_csv('Data/train.csv', index = False)\n",
    "testing.to_csv('Data/test.csv', index = False)"
   ]
  },
  {
   "cell_type": "code",
   "execution_count": null,
   "metadata": {},
   "outputs": [],
   "source": []
  }
 ],
 "metadata": {
  "kernelspec": {
   "display_name": "Python 3",
   "language": "python",
   "name": "python3"
  },
  "language_info": {
   "codemirror_mode": {
    "name": "ipython",
    "version": 3
   },
   "file_extension": ".py",
   "mimetype": "text/x-python",
   "name": "python",
   "nbconvert_exporter": "python",
   "pygments_lexer": "ipython3",
   "version": "3.6.5"
  }
 },
 "nbformat": 4,
 "nbformat_minor": 4
}
